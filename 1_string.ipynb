{
 "cells": [
  {
   "cell_type": "code",
   "execution_count": null,
   "metadata": {},
   "outputs": [],
   "source": [
    "#STRING"
   ]
  },
  {
   "cell_type": "code",
   "execution_count": 2,
   "metadata": {},
   "outputs": [
    {
     "name": "stdout",
     "output_type": "stream",
     "text": [
      "this is string\n",
      "this is also string\n"
     ]
    }
   ],
   "source": [
    "print(\"this is string\")\n",
    "print('this is also string')"
   ]
  },
  {
   "cell_type": "code",
   "execution_count": null,
   "metadata": {},
   "outputs": [],
   "source": [
    "#CHANGING CASE IN A STRING WITH METHODS"
   ]
  },
  {
   "cell_type": "code",
   "execution_count": 4,
   "metadata": {},
   "outputs": [
    {
     "name": "stdout",
     "output_type": "stream",
     "text": [
      "Ishan Kapoor\n"
     ]
    }
   ],
   "source": [
    "name=\"ishan kapoor\"\n",
    "print(name.title()) #title() changes first letter of both words into uppercase"
   ]
  },
  {
   "cell_type": "code",
   "execution_count": 7,
   "metadata": {},
   "outputs": [
    {
     "name": "stdout",
     "output_type": "stream",
     "text": [
      "YASH JAIN\n",
      "yash jain\n"
     ]
    }
   ],
   "source": [
    "name = \"Yash Jain\"\n",
    "print(name.upper()) #changes all letters to uppercase\n",
    "print(name.lower()) #changes all letters to lowercase"
   ]
  },
  {
   "cell_type": "code",
   "execution_count": 8,
   "metadata": {},
   "outputs": [],
   "source": [
    "#USING VARIABLES IN STRING"
   ]
  },
  {
   "cell_type": "code",
   "execution_count": 24,
   "metadata": {},
   "outputs": [
    {
     "name": "stdout",
     "output_type": "stream",
     "text": [
      "ishan kapoor\n",
      "hello,Ishan Kapoor!\n",
      "hello,Ishan Kapoor!\n"
     ]
    }
   ],
   "source": [
    "f_name = \"ishan\"\n",
    "l_name = \"kapoor\"\n",
    "full_name = f\"{f_name} {l_name}\" #These strings are called f-strings. The f is for format, because Python\n",
    "                                 #formats the string by replacing the name of any variable in braces with its value\n",
    "\n",
    "print(full_name)\n",
    "print(f\"hello,{full_name.title()}!\")\n",
    "\n",
    "message = f\"hello,{full_name.title()}!\"\n",
    "print(message)                                 \n"
   ]
  },
  {
   "cell_type": "code",
   "execution_count": null,
   "metadata": {},
   "outputs": [],
   "source": [
    "# F-strings were first introduced in Python 3.6. If you’re using Python 3.5 or earlier,\n",
    "# you’ll need to use the format() method rather than this f syntax. To use format(), list\n",
    "# the variables you want to use in the string inside the parentheses following format.\n",
    "# Each variable is referred to by a set of braces; the braces will be filled by the values\n",
    "# listed in parentheses in the order provided:"
   ]
  },
  {
   "cell_type": "code",
   "execution_count": 29,
   "metadata": {},
   "outputs": [
    {
     "name": "stdout",
     "output_type": "stream",
     "text": [
      "ishan kapoor\n"
     ]
    }
   ],
   "source": [
    "full_name = \"{} {}\".format(f_name,l_name) \n",
    "\n",
    "print(full_name)"
   ]
  },
  {
   "cell_type": "code",
   "execution_count": null,
   "metadata": {},
   "outputs": [],
   "source": [
    "# Adding Whitespace to Strings with Tabs or Newlines"
   ]
  },
  {
   "cell_type": "code",
   "execution_count": 33,
   "metadata": {},
   "outputs": [
    {
     "name": "stdout",
     "output_type": "stream",
     "text": [
      "\tpython\n",
      "python\n",
      "programming\n",
      "language\n",
      "\tpython\n",
      "\tprogramming\n",
      "\tlanguage\n"
     ]
    }
   ],
   "source": [
    "print(\"\\tpython\") #\\t = tab\n",
    "print(\"python\\nprogramming\\nlanguage\") #\\n = newline\n",
    "print(\"\\tpython\\n\\tprogramming\\n\\tlanguage\") # combination of \\n and \\t "
   ]
  },
  {
   "cell_type": "code",
   "execution_count": 34,
   "metadata": {},
   "outputs": [],
   "source": [
    "#Stripping Whitespace"
   ]
  },
  {
   "cell_type": "code",
   "execution_count": 51,
   "metadata": {},
   "outputs": [
    {
     "data": {
      "text/plain": [
       "'python'"
      ]
     },
     "execution_count": 51,
     "metadata": {},
     "output_type": "execute_result"
    }
   ],
   "source": [
    "prog_lan = \"python   \"     # whitespaces right side \n",
    "prog_lan.rstrip()          # remove whitespaces from right side\n",
    "\n",
    "prog_lan                   # rstrip can only remove whitespaces temporarily so if you print value of prog_lan\n",
    "                           # it is with whitespace\n",
    "\n",
    "prog_lan = prog_lan.rstrip() #To remove the whitespace from the string permanently, you have to\n",
    "prog_lan                     #associate the stripped value with the variable name:\n"
   ]
  },
  {
   "cell_type": "code",
   "execution_count": 54,
   "metadata": {},
   "outputs": [
    {
     "data": {
      "text/plain": [
       "'python'"
      ]
     },
     "execution_count": 54,
     "metadata": {},
     "output_type": "execute_result"
    }
   ],
   "source": [
    "prog_lan = \"    python\"   # whitespaces left side\n",
    "prog_lan.lstrip()        # remove whitespaces from left side\n",
    "\n",
    "prog_lan                # lstrip can only remove whitespaces temporarily so if you print value of prog_lan\n",
    "                        # it is with whitespace\n",
    "\n",
    "\n",
    "prog_lan = prog_lan.lstrip() #To remove the whitespace from the string permanently, you have to\n",
    "prog_lan                     #associate the stripped value with the variable name:"
   ]
  },
  {
   "cell_type": "code",
   "execution_count": 60,
   "metadata": {},
   "outputs": [
    {
     "data": {
      "text/plain": [
       "'python'"
      ]
     },
     "execution_count": 60,
     "metadata": {},
     "output_type": "execute_result"
    }
   ],
   "source": [
    "prog_lan = \"   python   \" # whitespaces at both side\n",
    "prog_lan.strip()          # remove whitespaces from both side . it also remove whitespaces temporarily\n",
    "\n",
    "prog_lan \n",
    "prog_lan = prog_lan.strip()\n",
    "prog_lan"
   ]
  },
  {
   "cell_type": "code",
   "execution_count": 70,
   "metadata": {},
   "outputs": [
    {
     "data": {
      "text/plain": [
       "'ishan          kapoor'"
      ]
     },
     "execution_count": 70,
     "metadata": {},
     "output_type": "execute_result"
    }
   ],
   "source": [
    "full_name = \"ishan          kapoor \" # rstrip doesn't remove whitespaces between 2 words\n",
    "full_name.rstrip()\n"
   ]
  },
  {
   "cell_type": "code",
   "execution_count": 71,
   "metadata": {},
   "outputs": [],
   "source": [
    "# using Apostrophe and quotation mark in string"
   ]
  },
  {
   "cell_type": "code",
   "execution_count": 73,
   "metadata": {},
   "outputs": [
    {
     "name": "stdout",
     "output_type": "stream",
     "text": [
      "One of Python's strengths is its diverse community.\n"
     ]
    }
   ],
   "source": [
    "print(\"One of Python's strengths is its diverse community.\") # Apostrophe in a string"
   ]
  },
  {
   "cell_type": "code",
   "execution_count": 75,
   "metadata": {},
   "outputs": [
    {
     "name": "stdout",
     "output_type": "stream",
     "text": [
      "Albert Einstein once said, “A person who never made a mistake never tried anything new.”\n"
     ]
    }
   ],
   "source": [
    "print('Albert Einstein once said, “A person who never made a mistake never tried anything new.”') # Quotation mark in a string"
   ]
  },
  {
   "cell_type": "code",
   "execution_count": null,
   "metadata": {},
   "outputs": [],
   "source": []
  }
 ],
 "metadata": {
  "kernelspec": {
   "display_name": "Python 3",
   "language": "python",
   "name": "python3"
  },
  "language_info": {
   "codemirror_mode": {
    "name": "ipython",
    "version": 3
   },
   "file_extension": ".py",
   "mimetype": "text/x-python",
   "name": "python",
   "nbconvert_exporter": "python",
   "pygments_lexer": "ipython3",
   "version": "3.7.7"
  }
 },
 "nbformat": 4,
 "nbformat_minor": 4
}
